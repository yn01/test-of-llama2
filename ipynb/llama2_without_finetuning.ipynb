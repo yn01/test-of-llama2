{
  "nbformat": 4,
  "nbformat_minor": 0,
  "metadata": {
    "colab": {
      "provenance": [],
      "gpuType": "T4"
    },
    "kernelspec": {
      "name": "python3",
      "display_name": "Python 3"
    },
    "language_info": {
      "name": "python"
    },
    "accelerator": "GPU"
  },
  "cells": [
    {
      "cell_type": "markdown",
      "source": [],
      "metadata": {
        "id": "wUJ202qpjkEJ"
      }
    },
    {
      "cell_type": "code",
      "source": [
        "!pip install transformers sentencepiece accelerate bitsandbytes scipy"
      ],
      "metadata": {
        "id": "xDSpfKYu9ZAa"
      },
      "execution_count": null,
      "outputs": []
    },
    {
      "cell_type": "code",
      "source": [
        "import torch\n",
        "from torch import cuda,bfloat16\n",
        "from transformers import AutoTokenizer,AutoModelForCausalLM\n",
        "import transformers"
      ],
      "metadata": {
        "id": "bzn5ClWvjfhi"
      },
      "execution_count": 16,
      "outputs": []
    },
    {
      "cell_type": "code",
      "source": [
        "model_id = \"meta-llama/Llama-2-7b-chat-hf\""
      ],
      "metadata": {
        "id": "tj3Tb64kjk48"
      },
      "execution_count": 12,
      "outputs": []
    },
    {
      "cell_type": "code",
      "source": [
        "token = 'hf_'"
      ],
      "metadata": {
        "id": "zvBpR0R2j7sB"
      },
      "execution_count": 13,
      "outputs": []
    },
    {
      "cell_type": "code",
      "source": [
        "quant_config = transformers.BitsAndBytesConfig(\n",
        "    load_in_4bit=True,\n",
        "    bnb_4bit_quant_type='nf4',\n",
        "    bnb_4bit_use_double_quant=True,\n",
        "    bnb_4bit_compute_dtype=bfloat16\n",
        ")"
      ],
      "metadata": {
        "id": "KIljMwVFj8Us"
      },
      "execution_count": 14,
      "outputs": []
    },
    {
      "cell_type": "code",
      "source": [
        "model = transformers.AutoModelForCausalLM.from_pretrained(\n",
        "    model_id,\n",
        "    trust_remote_code=True,\n",
        "    token=token,\n",
        "    quantization_config=quant_config,\n",
        "    device_map=\"auto\"\n",
        ")"
      ],
      "metadata": {
        "id": "X-85ke6UkCDk"
      },
      "execution_count": null,
      "outputs": []
    },
    {
      "cell_type": "code",
      "source": [
        "tokenizer = AutoTokenizer.from_pretrained(\n",
        "    model_id,\n",
        "    token=token\n",
        ")"
      ],
      "metadata": {
        "id": "QxGe8gZsvD2s"
      },
      "execution_count": null,
      "outputs": []
    },
    {
      "cell_type": "code",
      "source": [
        "pipeline = transformers.pipeline(\n",
        "    model=model,\n",
        "    tokenizer=tokenizer,\n",
        "    task=\"text-generation\",\n",
        "    repetition_penalty=1.1\n",
        ")"
      ],
      "metadata": {
        "id": "flY74a9VkEfO"
      },
      "execution_count": 8,
      "outputs": []
    },
    {
      "cell_type": "code",
      "source": [
        "# prompt = \"\"\"USER:Please tell me about Nikon Z fc.\n",
        "prompt = \"\"\"When was the Nikon Z fc camera announced and released?\n",
        "SYSTEM:\"\"\"\n",
        "sequences = pipeline(\n",
        "    prompt,\n",
        "    do_sample=True,\n",
        "    temperature=0.8,\n",
        "    top_p=0.9,\n",
        "    top_k=40,\n",
        "    num_return_sequences=1,\n",
        "    eos_token_id=tokenizer.eos_token_id,\n",
        "    max_length=300,\n",
        ")\n",
        "print(sequences[0][\"generated_text\"])"
      ],
      "metadata": {
        "id": "yUKq-HyskGQC"
      },
      "execution_count": null,
      "outputs": []
    }
  ]
}